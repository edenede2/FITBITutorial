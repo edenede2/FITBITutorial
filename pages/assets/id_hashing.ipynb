{
 "cells": [
  {
   "cell_type": "code",
   "execution_count": null,
   "metadata": {},
   "outputs": [
    {
     "name": "stdout",
     "output_type": "stream",
     "text": [
      "File C016 Heart Rate and Steps and Sleep Aggregated (1).csv does not contain Id column\n",
      "File C016 Heart Rate.csv does not contain Id column\n",
      "File C016 Steps.csv does not contain Id column\n",
      "File C053 Steps.csv does not contain Id column\n",
      "File features_dict.csv does not contain Id column\n"
     ]
    }
   ],
   "source": [
    "import polars as pl\n",
    "import os\n",
    "\n",
    "\n",
    "for file in os.listdir(r'.'):\n",
    "    if file.endswith('.csv'):\n",
    "        if 'Id' in pl.read_csv(file).columns:\n",
    "            # replace the Id content with the filename\n",
    "            df = (\n",
    "                pl.read_csv(file)\n",
    "                .with_columns(\n",
    "                    pl.col(\"Id\").str.replace(\"sub\", \"example_subject_\"),\n",
    "                    pl.col(\"Id\").str.replace(\"C\", \"example_subject_\"),\n",
    "                    pl.col(\"Id\").str.replace(\"E\", \"example__subject_\"),\n",
    "                    pl.col(\"Id\").str.replace(\"PE\", \"example_subject__\"),\n",
    "                    pl.col(\"Id\").str.replace(\"P_E_\", \"example_subject__\"),\n",
    "                    pl.col(\"Id\").str.replace(\"P_C_\", \"example_subject__\"),\n",
    "                    pl.col(\"Id\").str.replace(\"PC\", \"example_subject__\"),\n",
    "                )\n",
    "            )\n",
    "            df.write_csv(file)\n",
    "        else:\n",
    "            print(f\"File {file} does not contain Id column\")\n",
    "\n",
    "    elif file.endswith('.parquet'):\n",
    "        if 'Id' in pl.read_parquet(file).columns:\n",
    "            # replace the Id content with the filename\n",
    "            df = (\n",
    "                pl.read_parquet(file)\n",
    "                .with_columns(\n",
    "                    pl.col(\"Id\").str.replace(\"sub\", \"example_subject_\"),\n",
    "                    pl.col(\"Id\").str.replace(\"C\", \"example_subject_\"),\n",
    "                    pl.col(\"Id\").str.replace(\"E\", \"example__subject_\"),\n",
    "                    pl.col(\"Id\").str.replace(\"PE\", \"example_subject__\"),\n",
    "                    pl.col(\"Id\").str.replace(\"P_E_\", \"example_subject__\"),\n",
    "                    pl.col(\"Id\").str.replace(\"P_C_\", \"example_subject__\"),\n",
    "                    pl.col(\"Id\").str.replace(\"PC\", \"example_subject__\"),\n",
    "\n",
    "                )\n",
    "            )\n",
    "            df.write_parquet(file)\n",
    "        else:\n",
    "            print(f\"File {file} does not contain Id column\")\n",
    "\n",
    "    elif file.endswith('.xlsx'):\n",
    "        if 'Id' in pl.read_excel(file).columns:\n",
    "            # replace the Id content with the filename\n",
    "            df = (\n",
    "                pl.read_excel(file)\n",
    "                .with_columns(\n",
    "                    pl.col(\"Id\").str.replace(\"sub\", \"example_subject_\"),\n",
    "                    pl.col(\"Id\").str.replace(\"C\", \"example_subject_\"),\n",
    "                    pl.col(\"Id\").str.replace(\"E\", \"example__subject_\"),\n",
    "                    pl.col(\"Id\").str.replace(\"PE\", \"example_subject__\"),\n",
    "                    pl.col(\"Id\").str.replace(\"P_E_\", \"example_subject__\"),\n",
    "                    pl.col(\"Id\").str.replace(\"P_C_\", \"example_subject__\"),\n",
    "                    pl.col(\"Id\").str.replace(\"PC\", \"example_subject__\"),\n",
    "                )\n",
    "            )\n",
    "            df.write_excel(file)\n",
    "        else:\n",
    "            print(f\"File {file} does not contain Id column\")\n"
   ]
  },
  {
   "cell_type": "code",
   "execution_count": null,
   "metadata": {},
   "outputs": [],
   "source": []
  }
 ],
 "metadata": {
  "kernelspec": {
   "display_name": "Python 3",
   "language": "python",
   "name": "python3"
  },
  "language_info": {
   "codemirror_mode": {
    "name": "ipython",
    "version": 3
   },
   "file_extension": ".py",
   "mimetype": "text/x-python",
   "name": "python",
   "nbconvert_exporter": "python",
   "pygments_lexer": "ipython3",
   "version": "3.11.6"
  }
 },
 "nbformat": 4,
 "nbformat_minor": 2
}
